{
  "nbformat": 4,
  "nbformat_minor": 0,
  "metadata": {
    "colab": {
      "provenance": [],
      "authorship_tag": "ABX9TyNNNtu09pena3O8dnna8k0/",
      "include_colab_link": true
    },
    "kernelspec": {
      "name": "python3",
      "display_name": "Python 3"
    },
    "language_info": {
      "name": "python"
    }
  },
  "cells": [
    {
      "cell_type": "markdown",
      "metadata": {
        "id": "view-in-github",
        "colab_type": "text"
      },
      "source": [
        "<a href=\"https://colab.research.google.com/github/kashpunbalami/Numpy-/blob/main/SquidGame.ipynb\" target=\"_parent\"><img src=\"https://colab.research.google.com/assets/colab-badge.svg\" alt=\"Open In Colab\"/></a>"
      ]
    },
    {
      "cell_type": "markdown",
      "source": [
        "Squid game\n"
      ],
      "metadata": {
        "id": "f7R1yz-y-CNs"
      }
    },
    {
      "cell_type": "markdown",
      "source": [
        "1. Red Light, Green Light\n",
        "1.\tCreate a 1D NumPy array of 10 random integers between 1 and 100, representing players' distances.\n",
        "2.\tIdentify which players stopped when the distance is less than or equal to 50. Print the results.\n"
      ],
      "metadata": {
        "id": "_cfsAxhn-FX3"
      }
    },
    {
      "cell_type": "code",
      "execution_count": null,
      "metadata": {
        "colab": {
          "base_uri": "https://localhost:8080/"
        },
        "id": "jQsJNj2a9uNk",
        "outputId": "ef1d5d30-33d0-4581-9b01-c647166603ec"
      },
      "outputs": [
        {
          "output_type": "stream",
          "name": "stdout",
          "text": [
            "This is distance [[96  5 25 99  4 75  1  9 46 67]]\n",
            "[ 5 25  4  1  9 46]\n"
          ]
        }
      ],
      "source": [
        "import numpy as np\n",
        "dist = np.random.randint(1, 100, size = (1,10))\n",
        "print(f\"This is distance {dist}\")\n",
        "print(dist[dist < 50])\n"
      ]
    },
    {
      "cell_type": "markdown",
      "source": [
        ". Honeycomb Challenge\n",
        "1.\tCreate a 4x4 NumPy array with random integers between 1 and 9.\n",
        "2.\tExtract and print a specific shape (e.g., a cross or L-shape) from the array using slicing.\n"
      ],
      "metadata": {
        "id": "ZIQjkJZF_PHm"
      }
    },
    {
      "cell_type": "code",
      "source": [
        "random = np.random.randint(1,9, size =(4,4))\n",
        "random"
      ],
      "metadata": {
        "colab": {
          "base_uri": "https://localhost:8080/"
        },
        "id": "nvXqnF6O-VBt",
        "outputId": "81366aa3-579d-4dcf-db22-9b86a83ccb79"
      },
      "execution_count": null,
      "outputs": [
        {
          "output_type": "execute_result",
          "data": {
            "text/plain": [
              "array([[8, 5, 7, 7],\n",
              "       [2, 5, 7, 3],\n",
              "       [1, 8, 7, 2],\n",
              "       [5, 1, 8, 3]])"
            ]
          },
          "metadata": {},
          "execution_count": 31
        }
      ]
    },
    {
      "cell_type": "code",
      "source": [
        "print(f\"Small cross between matrix {random[1:3, 1:3]}\")"
      ],
      "metadata": {
        "colab": {
          "base_uri": "https://localhost:8080/"
        },
        "id": "ZglKejcYG86N",
        "outputId": "47ac432a-fb47-4f0d-e2d4-fc0da12c724a"
      },
      "execution_count": null,
      "outputs": [
        {
          "output_type": "stream",
          "name": "stdout",
          "text": [
            "Small cross between matrix [[5 7]\n",
            " [8 7]]\n"
          ]
        }
      ]
    },
    {
      "cell_type": "code",
      "source": [
        "cross = [random[0,0], random[1,1], random[2,2], random[3,3], random[0,3], random[1,2], random[2,1], random[3,0]]\n",
        "print(f\"For cross shape we get {cross}\")"
      ],
      "metadata": {
        "colab": {
          "base_uri": "https://localhost:8080/"
        },
        "id": "9a-ktCoIIS80",
        "outputId": "a8491619-16a7-4bf8-bc2a-66871ccc2ce4"
      },
      "execution_count": null,
      "outputs": [
        {
          "output_type": "stream",
          "name": "stdout",
          "text": [
            "For cross shape we get [8, 5, 7, 3, 7, 7, 8, 5]\n"
          ]
        }
      ]
    },
    {
      "cell_type": "code",
      "source": [
        "cross = [random[0,0], random[1,0], random[2,0], random[3,0], random[3,1], random[3,2], random[3,3]]\n",
        "print(f\"for L shape we get {cross}\")"
      ],
      "metadata": {
        "colab": {
          "base_uri": "https://localhost:8080/"
        },
        "id": "9jqeZQD4NdkE",
        "outputId": "1970d6a8-ebf3-455c-ac30-7f1ce571b1db"
      },
      "execution_count": null,
      "outputs": [
        {
          "output_type": "stream",
          "name": "stdout",
          "text": [
            "for L shape we get [8, 2, 1, 5, 1, 8, 3]\n"
          ]
        }
      ]
    },
    {
      "cell_type": "markdown",
      "source": [
        "3. Tug of War\n",
        "1.\tCreate two 1D NumPy arrays of 5 random integers each, representing two teams' strengths.\n",
        "2.\tCalculate the total strength of each team.\n",
        "3.\tDetermine and print which team wins or if it’s a tie.\n"
      ],
      "metadata": {
        "id": "63Ez9Dzt_bSp"
      }
    },
    {
      "cell_type": "code",
      "source": [
        "team1 = np.random.randint(1,100, size = (1,5))\n",
        "team2 = np.random.randint(1,100, size = (1,5))\n",
        "total1 = np.sum(team1)\n",
        "total2 = np.sum(team2)\n",
        "print(f\"All individual strength of team 1 is {team1}\")\n",
        "print(f\"All individual strength of team 2 is {team2}\")\n",
        "if total1 > total2:\n",
        "  print(f\"Team1 wins with strength{total1}\")\n",
        "elif total2 > total1:\n",
        "  print(f\"Team1 wins with strength{total2}\")\n",
        "else:\n",
        "  print(\"Both team proceed to next stage as it is tied\")\n"
      ],
      "metadata": {
        "colab": {
          "base_uri": "https://localhost:8080/"
        },
        "id": "nMmef6ud-4L4",
        "outputId": "cb3fbad8-f54d-457f-a09f-064f0f3a8876"
      },
      "execution_count": null,
      "outputs": [
        {
          "output_type": "stream",
          "name": "stdout",
          "text": [
            "All individual strength of team 1 is [[52 55 21 80 48]]\n",
            "All individual strength of team 2 is [[86 43 39 50 25]]\n",
            "Team1 wins with strength256\n"
          ]
        }
      ]
    },
    {
      "cell_type": "markdown",
      "source": [
        "4. Marble Game\n",
        "1.\tCreate a 1D NumPy array with 10 random integers between -5 and 5, representing marbles won (+) or lost (-) by players.\n",
        "2.\tCalculate the total marbles at the end and print the result.\n"
      ],
      "metadata": {
        "id": "thxmMMDzBW5v"
      }
    },
    {
      "cell_type": "code",
      "source": [
        "marble1 = np.random.randint(-5,5,size = (1, 10))\n",
        "marble2 = np.random.randint(-5,5, size = (1, 10))\n",
        "print(f\"Total marble won by player 1 is {marble1}\")\n",
        "print(f\"Total marble won by player 2 is {marble2}\")\n",
        "print(f\"Total marble won by player 1 is {np.sum(marble1)}\")\n",
        "print(f\"Total marble won by player 2 is {np.sum(marble2)}\")"
      ],
      "metadata": {
        "colab": {
          "base_uri": "https://localhost:8080/"
        },
        "id": "jJoSTGlZAFRQ",
        "outputId": "fb1e2b0b-745e-4268-edf0-520f30a21d63"
      },
      "execution_count": null,
      "outputs": [
        {
          "output_type": "stream",
          "name": "stdout",
          "text": [
            "Total marble won by player 1 is [[ 2  4  0 -1  0  4 -1  1 -3 -3]]\n",
            "Total marble won by player 2 is [[ 1 -2  4 -3 -3 -2 -4  0 -2 -4]]\n",
            "Total marble won by player 1 is 3\n",
            "Total marble won by player 2 is -15\n"
          ]
        }
      ]
    },
    {
      "cell_type": "markdown",
      "source": [
        "5. Glass Bridge\n",
        "1.\tCreate a 1D NumPy array of size 10 with random 0s (broken) and 1s (safe), representing the glass bridge.\n",
        "2.\tSimulate 10 random steps through the bridge.\n",
        "3.\tCheck and print if the player survives (steps land only on 1s) or falls (steps land on 0s).\n"
      ],
      "metadata": {
        "id": "ui57G79FCcZF"
      }
    },
    {
      "cell_type": "code",
      "source": [
        "glass = np.random.randint(0,1, size=(1,10))\n",
        "for i in range(1,11):\n",
        "  choice = np.random.choice([0,1])\n",
        "  if choice == 1:\n",
        "    print(\"Survived\")\n",
        "  elif choice == 0:\n",
        "    print(\"falls\")\n",
        "  else:\n",
        "    print(\"Runned out of time\")"
      ],
      "metadata": {
        "colab": {
          "base_uri": "https://localhost:8080/"
        },
        "id": "pUIVVeHeBsTF",
        "outputId": "0708c04e-5652-4fa4-c8d6-48e044f4fe95"
      },
      "execution_count": null,
      "outputs": [
        {
          "output_type": "stream",
          "name": "stdout",
          "text": [
            "Survived\n",
            "Survived\n",
            "falls\n",
            "falls\n",
            "Survived\n",
            "falls\n",
            "falls\n",
            "Survived\n",
            "Survived\n",
            "falls\n"
          ]
        }
      ]
    },
    {
      "cell_type": "code",
      "source": [],
      "metadata": {
        "id": "PqG3eGX4DHN9"
      },
      "execution_count": null,
      "outputs": []
    }
  ]
}